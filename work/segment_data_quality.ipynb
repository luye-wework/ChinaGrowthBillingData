{
 "cells": [
  {
   "cell_type": "markdown",
   "metadata": {},
   "source": [
    "# Segment Data Quality Cases -- Wework.cn\n",
    "\n",
    "This doc will show the cases of data that may need some attention \n"
   ]
  },
  {
   "cell_type": "markdown",
   "metadata": {},
   "source": [
    "Run the following cell to set up."
   ]
  },
  {
   "cell_type": "code",
   "execution_count": 1,
   "metadata": {},
   "outputs": [],
   "source": [
    "# load configure\n",
    "%store -r"
   ]
  },
  {
   "cell_type": "code",
   "execution_count": 2,
   "metadata": {},
   "outputs": [],
   "source": [
    "# connect to redshift\n",
    "\n",
    "import os\n",
    "from we_module.we import We\n",
    "#rs_conn = 'postgresql://lu.ye@wework.com:Luye@1234@redshift-production.weworkers.io:5439/analyticdb'\n",
    "rs_conn_str = 'postgresql://{}:{}@redshift-production.weworkers.io:5439/analyticdb'\n",
    "rs_conn = rs_conn_str.format(redshift_user, redshift_password)\n",
    "\n",
    "os.environ['REDSHIFT_CONN'] = rs_conn\n",
    "we = We()\n",
    "# disable logging info\n",
    "import logging, sys\n",
    "logging.disable(sys.maxsize)"
   ]
  },
  {
   "cell_type": "code",
   "execution_count": null,
   "metadata": {},
   "outputs": [],
   "source": []
  },
  {
   "cell_type": "markdown",
   "metadata": {},
   "source": [
    "\n"
   ]
  },
  {
   "cell_type": "markdown",
   "metadata": {},
   "source": [
    "### Identify call: there is null value in user_id "
   ]
  },
  {
   "cell_type": "code",
   "execution_count": 3,
   "metadata": {},
   "outputs": [
    {
     "data": {
      "text/html": [
       "<div>\n",
       "<style scoped>\n",
       "    .dataframe tbody tr th:only-of-type {\n",
       "        vertical-align: middle;\n",
       "    }\n",
       "\n",
       "    .dataframe tbody tr th {\n",
       "        vertical-align: top;\n",
       "    }\n",
       "\n",
       "    .dataframe thead th {\n",
       "        text-align: right;\n",
       "    }\n",
       "</style>\n",
       "<table border=\"1\" class=\"dataframe\">\n",
       "  <thead>\n",
       "    <tr style=\"text-align: right;\">\n",
       "      <th></th>\n",
       "      <th>uuid</th>\n",
       "      <th>received_at</th>\n",
       "      <th>anonymous_id</th>\n",
       "      <th>user_id</th>\n",
       "    </tr>\n",
       "  </thead>\n",
       "  <tbody>\n",
       "    <tr>\n",
       "      <th>0</th>\n",
       "      <td>51046</td>\n",
       "      <td>2019-07-24 22:30:21.198</td>\n",
       "      <td>105cc450-0781-4493-a31b-a8550672d61c</td>\n",
       "      <td>None</td>\n",
       "    </tr>\n",
       "    <tr>\n",
       "      <th>1</th>\n",
       "      <td>50797</td>\n",
       "      <td>2019-07-24 22:30:20.898</td>\n",
       "      <td>105cc450-0781-4493-a31b-a8550672d61c</td>\n",
       "      <td>None</td>\n",
       "    </tr>\n",
       "    <tr>\n",
       "      <th>2</th>\n",
       "      <td>54373</td>\n",
       "      <td>2019-07-24 22:07:12.525</td>\n",
       "      <td>5c28ffac-a5b1-4dcc-9dd6-155d80695345</td>\n",
       "      <td>None</td>\n",
       "    </tr>\n",
       "    <tr>\n",
       "      <th>3</th>\n",
       "      <td>55919</td>\n",
       "      <td>2019-07-24 22:07:11.211</td>\n",
       "      <td>5c28ffac-a5b1-4dcc-9dd6-155d80695345</td>\n",
       "      <td>None</td>\n",
       "    </tr>\n",
       "    <tr>\n",
       "      <th>4</th>\n",
       "      <td>54876</td>\n",
       "      <td>2019-07-24 22:07:10.149</td>\n",
       "      <td>5c28ffac-a5b1-4dcc-9dd6-155d80695345</td>\n",
       "      <td>None</td>\n",
       "    </tr>\n",
       "    <tr>\n",
       "      <th>5</th>\n",
       "      <td>57987</td>\n",
       "      <td>2019-07-24 22:07:09.107</td>\n",
       "      <td>5c28ffac-a5b1-4dcc-9dd6-155d80695345</td>\n",
       "      <td>None</td>\n",
       "    </tr>\n",
       "    <tr>\n",
       "      <th>6</th>\n",
       "      <td>61377</td>\n",
       "      <td>2019-07-24 21:59:13.123</td>\n",
       "      <td>bbd6db59-9ad3-451a-b599-c435fbf0325b</td>\n",
       "      <td>None</td>\n",
       "    </tr>\n",
       "    <tr>\n",
       "      <th>7</th>\n",
       "      <td>51357</td>\n",
       "      <td>2019-07-24 21:55:33.012</td>\n",
       "      <td>c1251686-e5a8-4a45-81f6-590930c9545e</td>\n",
       "      <td>None</td>\n",
       "    </tr>\n",
       "    <tr>\n",
       "      <th>8</th>\n",
       "      <td>53268</td>\n",
       "      <td>2019-07-24 21:55:32.102</td>\n",
       "      <td>c1251686-e5a8-4a45-81f6-590930c9545e</td>\n",
       "      <td>None</td>\n",
       "    </tr>\n",
       "    <tr>\n",
       "      <th>9</th>\n",
       "      <td>55700</td>\n",
       "      <td>2019-07-24 21:55:31.853</td>\n",
       "      <td>c1251686-e5a8-4a45-81f6-590930c9545e</td>\n",
       "      <td>None</td>\n",
       "    </tr>\n",
       "  </tbody>\n",
       "</table>\n",
       "</div>"
      ],
      "text/plain": [
       "    uuid             received_at                          anonymous_id user_id\n",
       "0  51046 2019-07-24 22:30:21.198  105cc450-0781-4493-a31b-a8550672d61c    None\n",
       "1  50797 2019-07-24 22:30:20.898  105cc450-0781-4493-a31b-a8550672d61c    None\n",
       "2  54373 2019-07-24 22:07:12.525  5c28ffac-a5b1-4dcc-9dd6-155d80695345    None\n",
       "3  55919 2019-07-24 22:07:11.211  5c28ffac-a5b1-4dcc-9dd6-155d80695345    None\n",
       "4  54876 2019-07-24 22:07:10.149  5c28ffac-a5b1-4dcc-9dd6-155d80695345    None\n",
       "5  57987 2019-07-24 22:07:09.107  5c28ffac-a5b1-4dcc-9dd6-155d80695345    None\n",
       "6  61377 2019-07-24 21:59:13.123  bbd6db59-9ad3-451a-b599-c435fbf0325b    None\n",
       "7  51357 2019-07-24 21:55:33.012  c1251686-e5a8-4a45-81f6-590930c9545e    None\n",
       "8  53268 2019-07-24 21:55:32.102  c1251686-e5a8-4a45-81f6-590930c9545e    None\n",
       "9  55700 2019-07-24 21:55:31.853  c1251686-e5a8-4a45-81f6-590930c9545e    None"
      ]
     },
     "execution_count": 3,
     "metadata": {},
     "output_type": "execute_result"
    }
   ],
   "source": [
    "sql =  '''\n",
    "select t.uuid, t.received_at, t.anonymous_id, t.user_id\n",
    "from wework_cn_segment.identifies t\n",
    "where t.user_id is null\n",
    "order by t.timestamp desc\n",
    "'''\n",
    "\n",
    "df_seg = we.get_tbl_query(sql)\n",
    "df_seg.head(10)"
   ]
  },
  {
   "cell_type": "markdown",
   "metadata": {},
   "source": [
    "\n",
    "### Outlier: 1 anonymous_id maps with 2 user_id"
   ]
  },
  {
   "cell_type": "markdown",
   "metadata": {},
   "source": []
  },
  {
   "cell_type": "code",
   "execution_count": null,
   "metadata": {},
   "outputs": [],
   "source": []
  },
  {
   "cell_type": "code",
   "execution_count": null,
   "metadata": {},
   "outputs": [],
   "source": []
  }
 ],
 "metadata": {
  "kernelspec": {
   "display_name": "Python 3",
   "language": "python",
   "name": "python3"
  },
  "language_info": {
   "codemirror_mode": {
    "name": "ipython",
    "version": 3
   },
   "file_extension": ".py",
   "mimetype": "text/x-python",
   "name": "python",
   "nbconvert_exporter": "python",
   "pygments_lexer": "ipython3",
   "version": "3.6.7"
  }
 },
 "nbformat": 4,
 "nbformat_minor": 2
}
