{
 "cells": [
  {
   "cell_type": "markdown",
   "metadata": {},
   "source": [
    "# Secret store \n",
    "This file should hold all your needed secrets and be place in your `work` folder.\n",
    "\n",
    "this folder is basiclly your prosistant volume mount, this means that all data that is saved there is gureteed to safe even if your environment is down.\n",
    "this file will hold all your secrets and expose those variable via the `%store` command.\n",
    "in order to retrieve those secrets in different notebook you nee to run `%store -r` in the begining of the notebook.\n",
    "\n",
    "## Please note:\n",
    "In case you need to update your secret, you need to run both the `%store` command here and the `%store -r` command in the relevant notebook.\n",
    "you should add this file to your `.gitignore file` so this will not leak into Github"
   ]
  },
  {
   "cell_type": "markdown",
   "metadata": {},
   "source": [
    "Here are some example for secret you can use, off course you can add as much as you like"
   ]
  },
  {
   "cell_type": "code",
   "execution_count": null,
   "metadata": {},
   "outputs": [],
   "source": [
    "access_key=\"your access key\"\n",
    "%store access_key"
   ]
  },
  {
   "cell_type": "code",
   "execution_count": null,
   "metadata": {},
   "outputs": [],
   "source": [
    "access_secret_key=\"your access secret key\"\n",
    "%store access_secret_key"
   ]
  },
  {
   "cell_type": "code",
   "execution_count": null,
   "metadata": {},
   "outputs": [],
   "source": [
    "session_token=\"your session token\" \n",
    "%store session_token"
   ]
  },
  {
   "cell_type": "code",
   "execution_count": null,
   "metadata": {},
   "outputs": [],
   "source": [
    "redshift_user=\"your redshift user\"\n",
    "%store redshift_user"
   ]
  },
  {
   "cell_type": "code",
   "execution_count": null,
   "metadata": {},
   "outputs": [],
   "source": [
    "redshift_password=\"your redshift password\"\n",
    "%store redshift_password"
   ]
  }
 ],
 "metadata": {
  "kernelspec": {
   "display_name": "Python 3",
   "language": "python",
   "name": "python3"
  },
  "language_info": {
   "codemirror_mode": {
    "name": "ipython",
    "version": 3
   },
   "file_extension": ".py",
   "mimetype": "text/x-python",
   "name": "python",
   "nbconvert_exporter": "python",
   "pygments_lexer": "ipython3",
   "version": "3.7.3"
  }
 },
 "nbformat": 4,
 "nbformat_minor": 2
}
