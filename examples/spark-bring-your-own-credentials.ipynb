{
 "cells": [
  {
   "cell_type": "markdown",
   "metadata": {},
   "source": [
    "# Use your own AWS credentials \n"
   ]
  },
  {
   "cell_type": "markdown",
   "metadata": {},
   "source": [
    "We highly recommend that you work with jupyert store magic and place all sensative credentials in a different file.\n",
    "the `%store -r` command below will retrive any variable being place in jupyterlab's cache.\n",
    "in this example the `access_key`,`access_secret_key` and `session_token` variables were declared in `mysecretstore.ipynb` and retrived by `%store -r` command.\n",
    "see more information [here](https://connect.weworkers.io/pages/editpage.action?pageId=147130442)"
   ]
  },
  {
   "cell_type": "code",
   "execution_count": 3,
   "metadata": {},
   "outputs": [],
   "source": [
    "%store -r"
   ]
  },
  {
   "cell_type": "code",
   "execution_count": 1,
   "metadata": {},
   "outputs": [],
   "source": [
    "import pyspark\n",
    "import socket\n",
    "import os\n",
    "from pyspark.sql import SparkSession"
   ]
  },
  {
   "cell_type": "markdown",
   "metadata": {},
   "source": [
    "Below is an example of spark session decleration with the configuration needed to pass your configuration:\n",
    "the important configuration in this case are\n",
    "```.config(\"spark.hadoop.fs.s3a.aws.credentials.provider\",\"org.apache.hadoop.fs.s3a.TemporaryAWSCredentialsProvider\") \\\n",
    "   .config(\"spark.hadoop.fs.s3a.access.key\" , access_key) \\\n",
    "   .config(\"spark.hadoop.fs.s3a.secret.key\",access_secret_key) \\\n",
    "   .config(\"spark.hadoop.fs.s3a.session.token\",session_token)\n",
    "```\n",
    "\n",
    "Here we see an example for local mode spark but off course this will work with distributed mode and and additional configuration can be added to that.\n"
   ]
  },
  {
   "cell_type": "code",
   "execution_count": 5,
   "metadata": {},
   "outputs": [],
   "source": [
    "\n",
    "session = SparkSession.builder.master(\"local[2]\") \\\n",
    "        .config(\"spark.hadoop.fs.s3a.aws.credentials.provider\",\"org.apache.hadoop.fs.s3a.TemporaryAWSCredentialsProvider\") \\\n",
    "        .config(\"spark.hadoop.fs.s3a.access.key\" , access_key) \\\n",
    "        .config(\"spark.hadoop.fs.s3a.secret.key\",access_secret_key) \\\n",
    "        .config(\"spark.hadoop.fs.s3a.session.token\",session_token) \\\n",
    "        .getOrCreate()"
   ]
  },
  {
   "cell_type": "markdown",
   "metadata": {},
   "source": [
    "To use spark-redshift connector with provided credentials:"
   ]
  },
  {
   "cell_type": "code",
   "execution_count": null,
   "metadata": {},
   "outputs": [],
   "source": [
    "df = session.read \\\n",
    "    .format(\"com.databricks.spark.redshift\") \\\n",
    "    .option(\"url\", f\"jdbc:redshift://redshift-production.weworkers.io:5439/analyticdb?user={redshift_user}&password={redshift_password}\") \\\n",
    "    .option(\"dbtable\", \"mytable\") \\\n",
    "    .option(\"tempdir\", \"s3a://mybacket/path/to/folder\") \\\n",
    "    .option(\"tempformat\",\"CSV\") \\\n",
    "    .option(\"temporary_aws_access_key_id\",access_key) \\\n",
    "    .option(\"temporary_aws_secret_access_key\",access_secret_key) \\\n",
    "    .option(\"temporary_aws_session_token\",access_token) \\\n",
    "    .load()\n",
    "df.show()"
   ]
  }
 ],
 "metadata": {
  "kernelspec": {
   "display_name": "Python 3",
   "language": "python",
   "name": "python3"
  },
  "language_info": {
   "codemirror_mode": {
    "name": "ipython",
    "version": 3
   },
   "file_extension": ".py",
   "mimetype": "text/x-python",
   "name": "python",
   "nbconvert_exporter": "python",
   "pygments_lexer": "ipython3",
   "version": "3.7.3"
  }
 },
 "nbformat": 4,
 "nbformat_minor": 2
}
