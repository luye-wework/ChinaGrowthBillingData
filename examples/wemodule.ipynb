{
 "cells": [
  {
   "cell_type": "markdown",
   "metadata": {},
   "source": [
    "# Welcome to We Module!\n",
    "\n",
    "We Module is a set of Python functions developed by the data engineering team.\n",
    "\n",
    "It is primarily intended to help you with connecting to, querying and transforming the data within the data warehouse.\n",
    "\n",
    "Before you can do anything, you need to configure We module locally. See https://github.com/WeConnect/we_module/blob/master/README.md\n",
    "\n",
    "Once that is done, you can get started by importing we module itself."
   ]
  },
  {
   "cell_type": "code",
   "execution_count": null,
   "metadata": {
    "collapsed": true
   },
   "outputs": [],
   "source": [
    "from we_module.we import We"
   ]
  },
  {
   "cell_type": "markdown",
   "metadata": {},
   "source": [
    "What is this module you just imported? For most things within We Module, you can find out more information about them by running the help function."
   ]
  },
  {
   "cell_type": "code",
   "execution_count": null,
   "metadata": {},
   "outputs": [],
   "source": [
    "help(We)"
   ]
  },
  {
   "cell_type": "markdown",
   "metadata": {},
   "source": [
    "To get started, you need to initialize your we object. If you pass True for the parameter debug_mode, We Module will print out its logs as it runs to give you and idea of what is happening."
   ]
  },
  {
   "cell_type": "code",
   "execution_count": null,
   "metadata": {},
   "outputs": [],
   "source": [
    "we = We(True)"
   ]
  },
  {
   "cell_type": "markdown",
   "metadata": {},
   "source": [
    "You can see that we module has established a connection with redshift. It did this using the redshift connection string you provided when you ran configure_computer.\n",
    "\n",
    "So now you have a database connection. Lets run a query! The method you will use for this is get_tbl_query. Lets see what it does:"
   ]
  },
  {
   "cell_type": "code",
   "execution_count": null,
   "metadata": {},
   "outputs": [],
   "source": [
    "help(we.get_tbl_query)"
   ]
  },
  {
   "cell_type": "markdown",
   "metadata": {},
   "source": [
    "It looks like this function takes in a query and returns a dataframe, lets try it. A popular table in the data warehouse is mv_dim_location, which stores information about all the different Wework locations."
   ]
  },
  {
   "cell_type": "code",
   "execution_count": null,
   "metadata": {},
   "outputs": [],
   "source": [
    "my_df = we.get_tbl_query(\"SELECT * FROM dw.mv_dim_location\")\n",
    "my_df.head()"
   ]
  },
  {
   "cell_type": "markdown",
   "metadata": {},
   "source": [
    "Wow! So simple! But you can already view the contents of the data warehouse with psql or your SQL GUI of choice, what if you want to actually manipulate your data and save it to the database?\n",
    "\n",
    "We Module works in tandem with another module called Materialize (also contained within the we_module git repo). Materialize can help you with persisting your dataframes back to the data warehouse. The primary means of interacting with the Materialize module is by writing a \"data script\". \"Data scripts\" are run by \"Data Manager\", which is really just a server that git pulls the \"data_scripts\" git repo every once in a while and schedules a run for everything it finds.\n",
    "\n",
    "Now it is time for you to write a data script of your own.\n",
    "\n",
    "In this folder (data_scripts/tutorial), take a look at \"my_first_datascript.py\". This file consists of two major functions, config, and main. \n",
    "\n",
    "The config function returns an ordinary python dictionary. Data Manager reads the keys from this dictionary in order to know how to run a data script. The dictionary provides information such as the name of the table, how often to run the script, what \"type\" of script it is, and also who to contact if something goes wrong.\n",
    "\n",
    "The 'main' function is where the real functionality of a data script lies. In most cases, the return value of main will be what is used to update the data warehouse.\n",
    "\n",
    "There are four \"types\" of data scripts. \"normal\", \"incremental\", \"state_capture\", and \"none\".\n",
    "\n",
    "A \"normal\" script will replace the existing table with the dataframe that is returned by main.\n",
    "\n",
    "An \"incremental\" script will append the data frame returned by main to the existing table based on a comparison to the \"incremental_key\".\n",
    "\n",
    "A \"state_capture\" script will append the entire data frame returned by main to the existing table.\n",
    "\n",
    "A \"none\" type (string \"none\" not Python None) script doesn't do anything with the return value. It is typically used for things like email alerts that don't alter the database.\n",
    "\n",
    "\"my_first_datascript.py\" is a \"normal\" type data script. Lets walk through what it is doing.\n",
    "\n",
    "You are going to be working with dataframes, so you need to import pandas."
   ]
  },
  {
   "cell_type": "code",
   "execution_count": null,
   "metadata": {},
   "outputs": [],
   "source": [
    "import pandas as pd"
   ]
  },
  {
   "cell_type": "markdown",
   "metadata": {},
   "source": [
    "The main function of a data script is automatically passed a we object as the first parameter. However to simulate this you can just use the we object you created earlier.\n",
    "\n",
    "First you should get the list of all users who are already we_module users."
   ]
  },
  {
   "cell_type": "code",
   "execution_count": null,
   "metadata": {},
   "outputs": [],
   "source": [
    "users_df = we.get_tbl_query('''\n",
    "        SELECT\n",
    "            name,\n",
    "            email\n",
    "        FROM\n",
    "            dw.we_module_tutorial_users\n",
    "    ''')\n",
    "users_df"
   ]
  },
  {
   "cell_type": "markdown",
   "metadata": {},
   "source": [
    "Now modify the above to create another data frame that includes your own name."
   ]
  },
  {
   "cell_type": "code",
   "execution_count": null,
   "metadata": {},
   "outputs": [],
   "source": [
    "my_info = {\n",
    "        'name': ['Your Name'],\n",
    "        'email': ['your.name@wework.com']\n",
    "    }\n",
    "my_df = pd.DataFrame.from_dict(my_info)\n",
    "my_df"
   ]
  },
  {
   "cell_type": "markdown",
   "metadata": {},
   "source": [
    "Next you should to append the two dataframes together, in order to add your name to the list of we_module users.\n",
    "\n",
    "The data frame you see below should be the same as the table we_module_tutorial_users once you run your script (with the addition of a _run_at column to let you know when the script ran)."
   ]
  },
  {
   "cell_type": "code",
   "execution_count": null,
   "metadata": {},
   "outputs": [],
   "source": [
    "final_df = users_df.append(my_df)\n",
    "final_df #this is what we should return"
   ]
  },
  {
   "cell_type": "markdown",
   "metadata": {},
   "source": [
    "So that is what my_first_datascript is doing. Lets test it by simulating the process data manager would follow.\n",
    "\n",
    "Note: This won't work unless you have write permission for the dw schema. If you don't know if you have write permission, you almost certainly don't. If it doesn't work, just use your imaginination."
   ]
  },
  {
   "cell_type": "code",
   "execution_count": null,
   "metadata": {},
   "outputs": [],
   "source": [
    "from we_module.materialize import Materialize\n",
    "help(Materialize)"
   ]
  },
  {
   "cell_type": "code",
   "execution_count": null,
   "metadata": {},
   "outputs": [],
   "source": [
    "mat = Materialize(we) #Materialize uses the We Module connection to operate, so we have to pass it the we object\n",
    "mat.load_script('./my_first_datascript.py') #load the script\n",
    "mat.materialize_script(mat.config['schedule'][0]) #materialize it (this is what actually makes the changes to the database). It takes a little while."
   ]
  },
  {
   "cell_type": "markdown",
   "metadata": {},
   "source": [
    "When the script is complete, it will return a datetime that reflects the completion time.\n",
    "\n",
    "Now you have materialized your script! If you query the we_module_tutorial_users table again you should see your name: "
   ]
  },
  {
   "cell_type": "code",
   "execution_count": null,
   "metadata": {},
   "outputs": [],
   "source": [
    "we.get_tbl_query('''\n",
    "        SELECT\n",
    "            name,\n",
    "            email\n",
    "        FROM\n",
    "            dw.we_module_tutorial_users\n",
    "    ''')"
   ]
  }
 ],
 "metadata": {
  "kernelspec": {
   "display_name": "Python 3",
   "language": "python",
   "name": "python3"
  },
  "language_info": {
   "codemirror_mode": {
    "name": "ipython",
    "version": 3
   },
   "file_extension": ".py",
   "mimetype": "text/x-python",
   "name": "python",
   "nbconvert_exporter": "python",
   "pygments_lexer": "ipython3",
   "version": "3.6.7"
  }
 },
 "nbformat": 4,
 "nbformat_minor": 2
}
